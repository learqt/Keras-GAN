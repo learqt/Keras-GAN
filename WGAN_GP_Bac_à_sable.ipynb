{
  "nbformat": 4,
  "nbformat_minor": 0,
  "metadata": {
    "colab": {
      "name": "WGAN-GP-Bac_à_sable.ipynb",
      "provenance": [],
      "include_colab_link": true
    },
    "kernelspec": {
      "name": "python3",
      "display_name": "Python 3"
    }
  },
  "cells": [
    {
      "cell_type": "markdown",
      "metadata": {
        "id": "view-in-github",
        "colab_type": "text"
      },
      "source": [
        "<a href=\"https://colab.research.google.com/github/learqt/Keras-GAN/blob/master/WGAN_GP_Bac_%C3%A0_sable.ipynb\" target=\"_parent\"><img src=\"https://colab.research.google.com/assets/colab-badge.svg\" alt=\"Open In Colab\"/></a>"
      ]
    },
    {
      "cell_type": "markdown",
      "metadata": {
        "id": "rAyoWRhIBOtV",
        "colab_type": "text"
      },
      "source": [
        "Générer des fausses time series via WGAN-GP ( Wasserstein GAN - Gradient Penality)"
      ]
    },
    {
      "cell_type": "code",
      "metadata": {
        "id": "mQdQXZqIBKqn",
        "colab_type": "code",
        "colab": {}
      },
      "source": [
        "#Packages\n",
        "import os\n",
        "import numpy as np\n",
        "import pandas as pd\n",
        "import argparse\n",
        "from sklearn.preprocessing import OneHotEncoder\n",
        "import keras \n",
        "import numpy as np \n",
        "import time\n",
        "import warnings\n",
        "import matplotlib.pyplot as plt\n",
        "from sklearn import preprocessing\n",
        "mm_scaler = preprocessing.MinMaxScaler()\n",
        "import tensorflow as tf\n",
        "from keras import backend as K\n",
        "\n",
        "from keras.models import Sequential,Model\n",
        "from keras.layers import Dense, Activation,Input,Reshape\n",
        "from keras import optimizers\n",
        "from keras.layers import Conv1D\n",
        "from keras.layers import MaxPooling1D,Flatten\n",
        "from keras.layers import LeakyReLU,BatchNormalization,UpSampling1D\n",
        "from keras.optimizers import RMSprop\n",
        "from functools import partial\n",
        "from keras.layers.merge import _Merge\n",
        "%tensorflow_version 2.x"
      ],
      "execution_count": 0,
      "outputs": []
    },
    {
      "cell_type": "code",
      "metadata": {
        "id": "xGW3AX7MC7mo",
        "colab_type": "code",
        "outputId": "5c23b6e2-d167-424f-d61c-b474ad5153b1",
        "colab": {
          "base_uri": "https://localhost:8080/",
          "height": 36
        }
      },
      "source": [
        "#Directory\n",
        "cwd=os.getcwd()\n",
        "cwd"
      ],
      "execution_count": 236,
      "outputs": [
        {
          "output_type": "execute_result",
          "data": {
            "text/plain": [
              "'/content'"
            ]
          },
          "metadata": {
            "tags": []
          },
          "execution_count": 236
        }
      ]
    },
    {
      "cell_type": "code",
      "metadata": {
        "id": "-cUak3zktDbf",
        "colab_type": "code",
        "outputId": "6c9675ee-97a3-434e-b79a-4cf6dd8b410d",
        "colab": {
          "base_uri": "https://localhost:8080/",
          "height": 579
        }
      },
      "source": [
        "!pip install Keras==2.2.4\n",
        "!pip install tensorflow==1.15.2"
      ],
      "execution_count": 237,
      "outputs": [
        {
          "output_type": "stream",
          "text": [
            "Requirement already satisfied: Keras==2.2.4 in /usr/local/lib/python3.6/dist-packages (2.2.4)\n",
            "Requirement already satisfied: pyyaml in /usr/local/lib/python3.6/dist-packages (from Keras==2.2.4) (3.13)\n",
            "Requirement already satisfied: h5py in /usr/local/lib/python3.6/dist-packages (from Keras==2.2.4) (2.10.0)\n",
            "Requirement already satisfied: keras-applications>=1.0.6 in /usr/local/lib/python3.6/dist-packages (from Keras==2.2.4) (1.0.8)\n",
            "Requirement already satisfied: six>=1.9.0 in /usr/local/lib/python3.6/dist-packages (from Keras==2.2.4) (1.12.0)\n",
            "Requirement already satisfied: keras-preprocessing>=1.0.5 in /usr/local/lib/python3.6/dist-packages (from Keras==2.2.4) (1.1.0)\n",
            "Requirement already satisfied: scipy>=0.14 in /usr/local/lib/python3.6/dist-packages (from Keras==2.2.4) (1.4.1)\n",
            "Requirement already satisfied: numpy>=1.9.1 in /usr/local/lib/python3.6/dist-packages (from Keras==2.2.4) (1.18.2)\n",
            "Requirement already satisfied: tensorflow==1.15.2 in /usr/local/lib/python3.6/dist-packages (1.15.2)\n",
            "Requirement already satisfied: opt-einsum>=2.3.2 in /usr/local/lib/python3.6/dist-packages (from tensorflow==1.15.2) (3.2.0)\n",
            "Requirement already satisfied: protobuf>=3.6.1 in /usr/local/lib/python3.6/dist-packages (from tensorflow==1.15.2) (3.10.0)\n",
            "Requirement already satisfied: tensorflow-estimator==1.15.1 in /usr/local/lib/python3.6/dist-packages (from tensorflow==1.15.2) (1.15.1)\n",
            "Requirement already satisfied: astor>=0.6.0 in /usr/local/lib/python3.6/dist-packages (from tensorflow==1.15.2) (0.8.1)\n",
            "Requirement already satisfied: google-pasta>=0.1.6 in /usr/local/lib/python3.6/dist-packages (from tensorflow==1.15.2) (0.2.0)\n",
            "Requirement already satisfied: wrapt>=1.11.1 in /usr/local/lib/python3.6/dist-packages (from tensorflow==1.15.2) (1.12.1)\n",
            "Requirement already satisfied: keras-preprocessing>=1.0.5 in /usr/local/lib/python3.6/dist-packages (from tensorflow==1.15.2) (1.1.0)\n",
            "Requirement already satisfied: numpy<2.0,>=1.16.0 in /usr/local/lib/python3.6/dist-packages (from tensorflow==1.15.2) (1.18.2)\n",
            "Requirement already satisfied: grpcio>=1.8.6 in /usr/local/lib/python3.6/dist-packages (from tensorflow==1.15.2) (1.27.2)\n",
            "Requirement already satisfied: six>=1.10.0 in /usr/local/lib/python3.6/dist-packages (from tensorflow==1.15.2) (1.12.0)\n",
            "Requirement already satisfied: tensorboard<1.16.0,>=1.15.0 in /usr/local/lib/python3.6/dist-packages (from tensorflow==1.15.2) (1.15.0)\n",
            "Requirement already satisfied: gast==0.2.2 in /usr/local/lib/python3.6/dist-packages (from tensorflow==1.15.2) (0.2.2)\n",
            "Requirement already satisfied: wheel>=0.26; python_version >= \"3\" in /usr/local/lib/python3.6/dist-packages (from tensorflow==1.15.2) (0.34.2)\n",
            "Requirement already satisfied: absl-py>=0.7.0 in /usr/local/lib/python3.6/dist-packages (from tensorflow==1.15.2) (0.9.0)\n",
            "Requirement already satisfied: keras-applications>=1.0.8 in /usr/local/lib/python3.6/dist-packages (from tensorflow==1.15.2) (1.0.8)\n",
            "Requirement already satisfied: termcolor>=1.1.0 in /usr/local/lib/python3.6/dist-packages (from tensorflow==1.15.2) (1.1.0)\n",
            "Requirement already satisfied: setuptools in /usr/local/lib/python3.6/dist-packages (from protobuf>=3.6.1->tensorflow==1.15.2) (46.1.3)\n",
            "Requirement already satisfied: markdown>=2.6.8 in /usr/local/lib/python3.6/dist-packages (from tensorboard<1.16.0,>=1.15.0->tensorflow==1.15.2) (3.2.1)\n",
            "Requirement already satisfied: werkzeug>=0.11.15 in /usr/local/lib/python3.6/dist-packages (from tensorboard<1.16.0,>=1.15.0->tensorflow==1.15.2) (1.0.1)\n",
            "Requirement already satisfied: h5py in /usr/local/lib/python3.6/dist-packages (from keras-applications>=1.0.8->tensorflow==1.15.2) (2.10.0)\n"
          ],
          "name": "stdout"
        }
      ]
    },
    {
      "cell_type": "code",
      "metadata": {
        "id": "uQzQXdiixLO9",
        "colab_type": "code",
        "outputId": "3444fc30-2376-488d-b360-d5ce2575d03f",
        "colab": {
          "base_uri": "https://localhost:8080/",
          "height": 36
        }
      },
      "source": [
        "cwd=os.getcwd()\n",
        "cwd"
      ],
      "execution_count": 238,
      "outputs": [
        {
          "output_type": "execute_result",
          "data": {
            "text/plain": [
              "'/content'"
            ]
          },
          "metadata": {
            "tags": []
          },
          "execution_count": 238
        }
      ]
    },
    {
      "cell_type": "code",
      "metadata": {
        "id": "znT2wfLsC-k5",
        "colab_type": "code",
        "colab": {}
      },
      "source": [
        "#On utilise les données VIX\n",
        "my_data = pd.read_csv(cwd + '/vixcurrent.csv', header=1, index_col=0)\n",
        "vix_data = my_data.loc[:, 'VIX Close']\n",
        "vix_data=vix_data.pct_change()\n",
        "vix_data_arr = np.array((vix_data))"
      ],
      "execution_count": 0,
      "outputs": []
    },
    {
      "cell_type": "code",
      "metadata": {
        "id": "gav1J37K-4Py",
        "colab_type": "code",
        "outputId": "b878ebe7-c64c-432a-8594-ea2960e9cdea",
        "colab": {
          "base_uri": "https://localhost:8080/",
          "height": 36
        }
      },
      "source": [
        "np.shape(vix_data_arr)"
      ],
      "execution_count": 240,
      "outputs": [
        {
          "output_type": "execute_result",
          "data": {
            "text/plain": [
              "(3862,)"
            ]
          },
          "metadata": {
            "tags": []
          },
          "execution_count": 240
        }
      ]
    },
    {
      "cell_type": "code",
      "metadata": {
        "id": "kcbuYYTXDAu0",
        "colab_type": "code",
        "outputId": "23d21b83-9eeb-4ed8-af01-f2da6242f0b1",
        "colab": {
          "base_uri": "https://localhost:8080/",
          "height": 284
        }
      },
      "source": [
        "#Graphs\n",
        "plt.plot(vix_data_arr)"
      ],
      "execution_count": 241,
      "outputs": [
        {
          "output_type": "execute_result",
          "data": {
            "text/plain": [
              "[<matplotlib.lines.Line2D at 0x7f96f0c24198>]"
            ]
          },
          "metadata": {
            "tags": []
          },
          "execution_count": 241
        },
        {
          "output_type": "display_data",
          "data": {
            "image/png": "[encoded data removed]",
            "text/plain": [
              "<Figure size 432x288 with 1 Axes>"
            ]
          },
          "metadata": {
            "tags": []
          }
        }
      ]
    },
    {
      "cell_type": "markdown",
      "metadata": {
        "id": "ORpzapVUNPS3",
        "colab_type": "text"
      },
      "source": [
        "Etapes d'WGAN-GP\n"
      ]
    },
    {
      "cell_type": "code",
      "metadata": {
        "id": "P83ZXL0Z009y",
        "colab_type": "code",
        "outputId": "8e66789b-53ce-484a-83ec-b93143f9d8ae",
        "colab": {
          "base_uri": "https://localhost:8080/",
          "height": 1000
        }
      },
      "source": [
        "class RandomWeightedAverage(_Merge):\n",
        "    \"\"\"Provides a (random) weighted average between real and generated samples\"\"\"\n",
        "    def _merge_function(self, inputs):\n",
        "        alpha = K.random_uniform((32, 1, 1,1))\n",
        "        return (alpha * inputs[0]) + ((1 - alpha) * inputs[1])\n",
        "\n",
        "class WGANGP():\n",
        "    def __init__(self):\n",
        "        self.img_rows = 99\n",
        "        self.img_cols = 30\n",
        "        #self.channels = 1\n",
        "        self.img_shape = (self.img_rows, self.img_cols)#,self.channels) #add channels ???\n",
        "        self.latent_dim = 50\n",
        "\n",
        "        # Following parameter and optimizer set as recommended in paper\n",
        "        self.n_critic = 5\n",
        "        optimizer = RMSprop(lr=0.00005)\n",
        "\n",
        "        # Build the generator and critic\n",
        "        self.generator = self.build_generator()\n",
        "        self.critic = self.build_critic()\n",
        "\n",
        "        #-------------------------------\n",
        "        # Construct Computational Graph\n",
        "        #       for the Critic\n",
        "        #-------------------------------\n",
        "\n",
        "        # Freeze generator's layers while training critic\n",
        "        self.generator.trainable = False\n",
        "\n",
        "        # Image input (real sample)\n",
        "        real_img = Input(shape=self.img_shape)\n",
        "\n",
        "        # Noise input\n",
        "        z_disc = Input(shape=(self.latent_dim,))\n",
        "        # Generate image based of noise (fake sample)\n",
        "        fake_img = self.generator(z_disc)\n",
        "\n",
        "        # Discriminator determines validity of the real and fake images\n",
        "        fake = self.critic(fake_img)\n",
        "        valid = self.critic(real_img)\n",
        "\n",
        "        # Construct weighted average between real and fake images\n",
        "        interpolated_img = RandomWeightedAverage()([real_img, fake_img])\n",
        "        # Determine validity of weighted sample\n",
        "        validity_interpolated = self.critic(interpolated_img)\n",
        "\n",
        "        # Use Python partial to provide loss function with additional\n",
        "        # 'averaged_samples' argument\n",
        "        partial_gp_loss = partial(self.gradient_penalty_loss,\n",
        "                          averaged_samples=interpolated_img)\n",
        "        partial_gp_loss.__name__ = 'gradient_penalty' # Keras requires function names\n",
        "\n",
        "        self.critic_model = Model(inputs=[real_img, z_disc],\n",
        "                            outputs=[valid, fake, validity_interpolated])\n",
        "        self.critic_model.compile(loss=[self.wasserstein_loss,\n",
        "                                              self.wasserstein_loss,\n",
        "                                              partial_gp_loss],\n",
        "                                        optimizer=optimizer,\n",
        "                                        loss_weights=[1, 1, 10])\n",
        "        #-------------------------------\n",
        "        # Construct Computational Graph\n",
        "        #         for Generator\n",
        "        #-------------------------------\n",
        "\n",
        "        # For the generator we freeze the critic's layers\n",
        "        self.critic.trainable = False\n",
        "        self.generator.trainable = True\n",
        "\n",
        "        # Sampled noise for input to generator\n",
        "        z_gen = Input(shape=(50,))\n",
        "        # Generate images based of noise\n",
        "        img = self.generator(z_gen)\n",
        "        # Discriminator determines validity\n",
        "        valid = self.critic(img)\n",
        "        # Defines generator model\n",
        "        self.generator_model = Model(z_gen, valid)\n",
        "        self.generator_model.compile(loss=self.wasserstein_loss, optimizer=optimizer)\n",
        "\n",
        "\n",
        "    def gradient_penalty_loss(self, y_true, y_pred, averaged_samples):\n",
        "        \"\"\"\n",
        "        Computes gradient penalty based on prediction and weighted real / fake samples\n",
        "        \"\"\"\n",
        "        gradients = K.gradients(y_pred, averaged_samples)[0]\n",
        "        # compute the euclidean norm by squaring ...\n",
        "        gradients_sqr = K.square(gradients)\n",
        "        #   ... summing over the rows ...\n",
        "        gradients_sqr_sum = K.sum(gradients_sqr,\n",
        "                                  axis=np.arange(1, len(gradients_sqr.shape)))\n",
        "        #   ... and sqrt\n",
        "        gradient_l2_norm = K.sqrt(gradients_sqr_sum)\n",
        "        # compute lambda * (1 - ||grad||)^2 still for each single sample\n",
        "        gradient_penalty = K.square(1 - gradient_l2_norm)\n",
        "        # return the mean as loss over all the batch samples\n",
        "        return K.mean(gradient_penalty)\n",
        "\n",
        "\n",
        "    def wasserstein_loss(self, y_true, y_pred):\n",
        "        return K.mean(y_true * y_pred)\n",
        "\n",
        "    def build_generator(self):\n",
        "\n",
        "        # define model\n",
        "        model= Sequential() \n",
        "       \n",
        "        model.add(Dense(100,input_dim=self.latent_dim)) #diff between input_shape and input_dim\n",
        "        model.add(BatchNormalization())\n",
        "        model.add(LeakyReLU(alpha=0.2))\n",
        "\n",
        "        model.add((Reshape((100,1))))\n",
        "\n",
        "        model.add(Conv1D(filters=32, kernel_size=3, padding='same'))\n",
        "        model.add (BatchNormalization())\n",
        "        model.add(LeakyReLU(alpha=0.2))\n",
        "        model.add(UpSampling1D())\n",
        "        model.add(Conv1D(filters=32, kernel_size=3, padding='same'))\n",
        "        model.add (BatchNormalization())\n",
        "        model.add(LeakyReLU(alpha=0.2))\n",
        "        model.add(UpSampling1D())\n",
        "        model.add(Conv1D(filters=32, kernel_size=3, padding='same'))\n",
        "        model.add (BatchNormalization())\n",
        "        model.add(LeakyReLU(alpha=0.2))\n",
        "        model.add(UpSampling1D())\n",
        "        model.add(Conv1D(filters=32, kernel_size=3, padding='same'))\n",
        "        model.add (BatchNormalization())\n",
        "        model.add(LeakyReLU(alpha=0.2))\n",
        "\n",
        "        model.add(Flatten())\n",
        "\n",
        "        model.add(Dense(100))\n",
        "        model.add(BatchNormalization())\n",
        "        model.add(LeakyReLU(alpha=0.2))\n",
        "\n",
        "        model.summary()\n",
        "\n",
        "\n",
        "        noise = Input(shape=(self.latent_dim,))\n",
        "        img = model(noise)\n",
        "\n",
        "        return Model(noise, img)\n",
        "\n",
        "    def build_critic(self):\n",
        "\n",
        "        model= Sequential() \n",
        "        model.add((Reshape((99,30),input_shape=self.img_shape)))\n",
        "\n",
        "        model.add(Conv1D(filters=32, kernel_size=3, padding='same'))\n",
        "        model.add(BatchNormalization())\n",
        "        model.add(LeakyReLU(alpha=0.2))\n",
        "        model.add(MaxPooling1D(pool_size=2))\n",
        "        model.add(Conv1D(filters=32, kernel_size=3, padding='same'))\n",
        "        model.add(BatchNormalization())\n",
        "        model.add(LeakyReLU(alpha=0.2))\n",
        "        model.add(MaxPooling1D(pool_size=2))\n",
        "        model.add(Conv1D(filters=32, kernel_size=3, padding='same'))\n",
        "        model.add(BatchNormalization())\n",
        "        model.add(LeakyReLU(alpha=0.2))\n",
        "        model.add(MaxPooling1D(pool_size=2))\n",
        "        model.add(Flatten())\n",
        "\n",
        "        model.add(Dense(50))\n",
        "        model.add (BatchNormalization())\n",
        "        model.add(LeakyReLU(alpha=0.2))\n",
        "        model.add(Dense(15))\n",
        "        model.add(BatchNormalization())\n",
        "        model.add(LeakyReLU(alpha=0.2))\n",
        "        model.add(Dense(1))\n",
        "        model.add(BatchNormalization())\n",
        "        model.add(LeakyReLU(alpha=0.2))\n",
        "\n",
        "        model.summary()\n",
        "\n",
        "        img = Input(shape=self.img_shape)\n",
        "        validity = model(img)\n",
        "\n",
        "        return Model(img, validity)\n",
        "\n",
        "    def train(self, epochs, batch_size, sample_interval=50):\n",
        "\n",
        "        #Load the dataset\n",
        "        my_data = pd.read_csv(cwd + '/vixcurrent.csv', header=1, index_col=0)\n",
        "        vix_data = my_data.loc[:, 'VIX Close']\n",
        "        vix_data=vix_data.pct_change() #transform in daily return\n",
        "        vix_data_arr = np.array((vix_data))\n",
        "\n",
        "        X = np.array([vix_data_arr[30*k:30 + 30*k] for k in range(0,int( vix_data.size/30))]) #shape:(99,30) --> sample of 30 days\n",
        "        X=X.astype(np.float32)\n",
        "        X_train = mm_scaler.fit_transform(X).reshape(-1, 1)\n",
        "        X_train = np.expand_dims(X_train)\n",
        "\n",
        "        # Adversarial ground truths\n",
        "        valid = -np.ones((batch_size, 1))\n",
        "        fake =  np.ones((batch_size, 1))\n",
        "        dummy = np.zeros((batch_size, 1)) # Dummy gt for gradient penalty\n",
        "        for epoch in range(epochs):\n",
        "\n",
        "            for _ in range(self.n_critic):\n",
        "\n",
        "                # ---------------------\n",
        "                #  Train Discriminator\n",
        "                # ---------------------\n",
        "\n",
        "                # Select a random batch\n",
        "                idx = np.random.randint(0, X_train.shape[0], batch_size)\n",
        "                imgs = X_train[idx]\n",
        "                # Sample generator input\n",
        "                noise = np.random.normal(0, 1, (batch_size, self.latent_dim))\n",
        "                # Train the critic\n",
        "                d_loss = self.critic_model.train_on_batch([imgs, noise],\n",
        "                                                                [valid, fake, dummy])\n",
        "\n",
        "            # ---------------------\n",
        "            #  Train Generator\n",
        "            # ---------------------\n",
        "\n",
        "            g_loss = self.generator_model.train_on_batch(noise, valid)\n",
        "\n",
        "            # Plot the progress\n",
        "            print (\"%d [D loss: %f] [G loss: %f]\" % (epoch, d_loss[0], g_loss))\n",
        "\n",
        "            # If at save interval => save generated image samples\n",
        "            #if epoch % sample_interval == 0:\n",
        "                #self.sample_images(epoch)\n",
        "\n",
        "    def sample_images(self, epoch):\n",
        "        r, c = 5, 5\n",
        "        noise = np.random.normal(0, 1, (r * c, self.latent_dim))\n",
        "        gen_imgs = self.generator.predict(noise)\n",
        "\n",
        "        # Rescale images 0 - 1\n",
        "        #gen_imgs = 0.5 * gen_imgs + 1\n",
        "\n",
        "        #fig, axs = plt.subplots(r, c)\n",
        "        #cnt = 0\n",
        "        #for i in range(r):\n",
        "            #for j in range(c):\n",
        "                #axs[i,j].imshow(gen_imgs[cnt, :,:,0], cmap='gray')\n",
        "                #axs[i,j].axis('off')\n",
        "               # cnt += 1\n",
        "        #fig.savefig(\"images/mnist_%d.png\" % epoch)\n",
        "        #plt.close()\n",
        "\n",
        "\n",
        "if __name__ == '__main__':\n",
        "    wgan = WGANGP()\n",
        "    wgan.train(epochs=300, batch_size=(64))"
      ],
      "execution_count": 301,
      "outputs": [
        {
          "output_type": "stream",
          "text": [
            "_________________________________________________________________\n",
            "Layer (type)                 Output Shape              Param #   \n",
            "=================================================================\n",
            "dense_236 (Dense)            (None, 100)               5100      \n",
            "_________________________________________________________________\n",
            "batch_normalization_515 (Bat (None, 100)               400       \n",
            "_________________________________________________________________\n",
            "leaky_re_lu_517 (LeakyReLU)  (None, 100)               0         \n",
            "_________________________________________________________________\n",
            "reshape_92 (Reshape)         (None, 100, 1)            0         \n",
            "_________________________________________________________________\n",
            "conv1d_309 (Conv1D)          (None, 100, 32)           128       \n",
            "_________________________________________________________________\n",
            "batch_normalization_516 (Bat (None, 100, 32)           128       \n",
            "_________________________________________________________________\n",
            "leaky_re_lu_518 (LeakyReLU)  (None, 100, 32)           0         \n",
            "_________________________________________________________________\n",
            "up_sampling1d_139 (UpSamplin (None, 200, 32)           0         \n",
            "_________________________________________________________________\n",
            "conv1d_310 (Conv1D)          (None, 200, 32)           3104      \n",
            "_________________________________________________________________\n",
            "batch_normalization_517 (Bat (None, 200, 32)           128       \n",
            "_________________________________________________________________\n",
            "leaky_re_lu_519 (LeakyReLU)  (None, 200, 32)           0         \n",
            "_________________________________________________________________\n",
            "up_sampling1d_140 (UpSamplin (None, 400, 32)           0         \n",
            "_________________________________________________________________\n",
            "conv1d_311 (Conv1D)          (None, 400, 32)           3104      \n",
            "_________________________________________________________________\n",
            "batch_normalization_518 (Bat (None, 400, 32)           128       \n",
            "_________________________________________________________________\n",
            "leaky_re_lu_520 (LeakyReLU)  (None, 400, 32)           0         \n",
            "_________________________________________________________________\n",
            "up_sampling1d_141 (UpSamplin (None, 800, 32)           0         \n",
            "_________________________________________________________________\n",
            "conv1d_312 (Conv1D)          (None, 800, 32)           3104      \n",
            "_________________________________________________________________\n",
            "batch_normalization_519 (Bat (None, 800, 32)           128       \n",
            "_________________________________________________________________\n",
            "leaky_re_lu_521 (LeakyReLU)  (None, 800, 32)           0         \n",
            "_________________________________________________________________\n",
            "flatten_77 (Flatten)         (None, 25600)             0         \n",
            "_________________________________________________________________\n",
            "dense_237 (Dense)            (None, 100)               2560100   \n",
            "_________________________________________________________________\n",
            "batch_normalization_520 (Bat (None, 100)               400       \n",
            "_________________________________________________________________\n",
            "leaky_re_lu_522 (LeakyReLU)  (None, 100)               0         \n",
            "=================================================================\n",
            "Total params: 2,575,952\n",
            "Trainable params: 2,575,296\n",
            "Non-trainable params: 656\n",
            "_________________________________________________________________\n",
            "_________________________________________________________________\n",
            "Layer (type)                 Output Shape              Param #   \n",
            "=================================================================\n",
            "reshape_93 (Reshape)         (None, 99, 30)            0         \n",
            "_________________________________________________________________\n",
            "conv1d_313 (Conv1D)          (None, 99, 32)            2912      \n",
            "_________________________________________________________________\n",
            "batch_normalization_521 (Bat (None, 99, 32)            128       \n",
            "_________________________________________________________________\n",
            "leaky_re_lu_523 (LeakyReLU)  (None, 99, 32)            0         \n",
            "_________________________________________________________________\n",
            "max_pooling1d_106 (MaxPoolin (None, 49, 32)            0         \n",
            "_________________________________________________________________\n",
            "conv1d_314 (Conv1D)          (None, 49, 32)            3104      \n",
            "_________________________________________________________________\n",
            "batch_normalization_522 (Bat (None, 49, 32)            128       \n",
            "_________________________________________________________________\n",
            "leaky_re_lu_524 (LeakyReLU)  (None, 49, 32)            0         \n",
            "_________________________________________________________________\n",
            "max_pooling1d_107 (MaxPoolin (None, 24, 32)            0         \n",
            "_________________________________________________________________\n",
            "conv1d_315 (Conv1D)          (None, 24, 32)            3104      \n",
            "_________________________________________________________________\n",
            "batch_normalization_523 (Bat (None, 24, 32)            128       \n",
            "_________________________________________________________________\n",
            "leaky_re_lu_525 (LeakyReLU)  (None, 24, 32)            0         \n",
            "_________________________________________________________________\n",
            "max_pooling1d_108 (MaxPoolin (None, 12, 32)            0         \n",
            "_________________________________________________________________\n",
            "flatten_78 (Flatten)         (None, 384)               0         \n",
            "_________________________________________________________________\n",
            "dense_238 (Dense)            (None, 50)                19250     \n",
            "_________________________________________________________________\n",
            "batch_normalization_524 (Bat (None, 50)                200       \n",
            "_________________________________________________________________\n",
            "leaky_re_lu_526 (LeakyReLU)  (None, 50)                0         \n",
            "_________________________________________________________________\n",
            "dense_239 (Dense)            (None, 15)                765       \n",
            "_________________________________________________________________\n",
            "batch_normalization_525 (Bat (None, 15)                60        \n",
            "_________________________________________________________________\n",
            "leaky_re_lu_527 (LeakyReLU)  (None, 15)                0         \n",
            "_________________________________________________________________\n",
            "dense_240 (Dense)            (None, 1)                 16        \n",
            "_________________________________________________________________\n",
            "batch_normalization_526 (Bat (None, 1)                 4         \n",
            "_________________________________________________________________\n",
            "leaky_re_lu_528 (LeakyReLU)  (None, 1)                 0         \n",
            "=================================================================\n",
            "Total params: 29,799\n",
            "Trainable params: 29,475\n",
            "Non-trainable params: 324\n",
            "_________________________________________________________________\n"
          ],
          "name": "stdout"
        },
        {
          "output_type": "error",
          "ename": "ValueError",
          "evalue": "ignored",
          "traceback": [
            "\u001b[0;31m---------------------------------------------------------------------------\u001b[0m",
            "\u001b[0;31mValueError\u001b[0m                                Traceback (most recent call last)",
            "\u001b[0;32m<ipython-input-301-627ace4563b8>\u001b[0m in \u001b[0;36m<module>\u001b[0;34m()\u001b[0m\n\u001b[1;32m    244\u001b[0m \u001b[0;34m\u001b[0m\u001b[0m\n\u001b[1;32m    245\u001b[0m \u001b[0;32mif\u001b[0m \u001b[0m__name__\u001b[0m \u001b[0;34m==\u001b[0m \u001b[0;34m'__main__'\u001b[0m\u001b[0;34m:\u001b[0m\u001b[0;34m\u001b[0m\u001b[0;34m\u001b[0m\u001b[0m\n\u001b[0;32m--> 246\u001b[0;31m     \u001b[0mwgan\u001b[0m \u001b[0;34m=\u001b[0m \u001b[0mWGANGP\u001b[0m\u001b[0;34m(\u001b[0m\u001b[0;34m)\u001b[0m\u001b[0;34m\u001b[0m\u001b[0;34m\u001b[0m\u001b[0m\n\u001b[0m\u001b[1;32m    247\u001b[0m     \u001b[0mwgan\u001b[0m\u001b[0;34m.\u001b[0m\u001b[0mtrain\u001b[0m\u001b[0;34m(\u001b[0m\u001b[0mepochs\u001b[0m\u001b[0;34m=\u001b[0m\u001b[0;36m300\u001b[0m\u001b[0;34m,\u001b[0m \u001b[0mbatch_size\u001b[0m\u001b[0;34m=\u001b[0m\u001b[0;34m(\u001b[0m\u001b[0;36m64\u001b[0m\u001b[0;34m)\u001b[0m\u001b[0;34m)\u001b[0m\u001b[0;34m\u001b[0m\u001b[0;34m\u001b[0m\u001b[0m\n",
            "\u001b[0;32m<ipython-input-301-627ace4563b8>\u001b[0m in \u001b[0;36m__init__\u001b[0;34m(self)\u001b[0m\n\u001b[1;32m     38\u001b[0m \u001b[0;34m\u001b[0m\u001b[0m\n\u001b[1;32m     39\u001b[0m         \u001b[0;31m# Discriminator determines validity of the real and fake images\u001b[0m\u001b[0;34m\u001b[0m\u001b[0;34m\u001b[0m\u001b[0;34m\u001b[0m\u001b[0m\n\u001b[0;32m---> 40\u001b[0;31m         \u001b[0mfake\u001b[0m \u001b[0;34m=\u001b[0m \u001b[0mself\u001b[0m\u001b[0;34m.\u001b[0m\u001b[0mcritic\u001b[0m\u001b[0;34m(\u001b[0m\u001b[0mfake_img\u001b[0m\u001b[0;34m)\u001b[0m\u001b[0;34m\u001b[0m\u001b[0;34m\u001b[0m\u001b[0m\n\u001b[0m\u001b[1;32m     41\u001b[0m         \u001b[0mvalid\u001b[0m \u001b[0;34m=\u001b[0m \u001b[0mself\u001b[0m\u001b[0;34m.\u001b[0m\u001b[0mcritic\u001b[0m\u001b[0;34m(\u001b[0m\u001b[0mreal_img\u001b[0m\u001b[0;34m)\u001b[0m\u001b[0;34m\u001b[0m\u001b[0;34m\u001b[0m\u001b[0m\n\u001b[1;32m     42\u001b[0m \u001b[0;34m\u001b[0m\u001b[0m\n",
            "\u001b[0;32m/usr/local/lib/python3.6/dist-packages/keras/engine/base_layer.py\u001b[0m in \u001b[0;36m__call__\u001b[0;34m(self, inputs, **kwargs)\u001b[0m\n\u001b[1;32m    455\u001b[0m             \u001b[0;31m# Actually call the layer,\u001b[0m\u001b[0;34m\u001b[0m\u001b[0;34m\u001b[0m\u001b[0;34m\u001b[0m\u001b[0m\n\u001b[1;32m    456\u001b[0m             \u001b[0;31m# collecting output(s), mask(s), and shape(s).\u001b[0m\u001b[0;34m\u001b[0m\u001b[0;34m\u001b[0m\u001b[0;34m\u001b[0m\u001b[0m\n\u001b[0;32m--> 457\u001b[0;31m             \u001b[0moutput\u001b[0m \u001b[0;34m=\u001b[0m \u001b[0mself\u001b[0m\u001b[0;34m.\u001b[0m\u001b[0mcall\u001b[0m\u001b[0;34m(\u001b[0m\u001b[0minputs\u001b[0m\u001b[0;34m,\u001b[0m \u001b[0;34m**\u001b[0m\u001b[0mkwargs\u001b[0m\u001b[0;34m)\u001b[0m\u001b[0;34m\u001b[0m\u001b[0;34m\u001b[0m\u001b[0m\n\u001b[0m\u001b[1;32m    458\u001b[0m             \u001b[0moutput_mask\u001b[0m \u001b[0;34m=\u001b[0m \u001b[0mself\u001b[0m\u001b[0;34m.\u001b[0m\u001b[0mcompute_mask\u001b[0m\u001b[0;34m(\u001b[0m\u001b[0minputs\u001b[0m\u001b[0;34m,\u001b[0m \u001b[0mprevious_mask\u001b[0m\u001b[0;34m)\u001b[0m\u001b[0;34m\u001b[0m\u001b[0;34m\u001b[0m\u001b[0m\n\u001b[1;32m    459\u001b[0m \u001b[0;34m\u001b[0m\u001b[0m\n",
            "\u001b[0;32m/usr/local/lib/python3.6/dist-packages/keras/engine/network.py\u001b[0m in \u001b[0;36mcall\u001b[0;34m(self, inputs, mask)\u001b[0m\n\u001b[1;32m    562\u001b[0m             \u001b[0;32mreturn\u001b[0m \u001b[0mself\u001b[0m\u001b[0;34m.\u001b[0m\u001b[0m_output_tensor_cache\u001b[0m\u001b[0;34m[\u001b[0m\u001b[0mcache_key\u001b[0m\u001b[0;34m]\u001b[0m\u001b[0;34m\u001b[0m\u001b[0;34m\u001b[0m\u001b[0m\n\u001b[1;32m    563\u001b[0m         \u001b[0;32melse\u001b[0m\u001b[0;34m:\u001b[0m\u001b[0;34m\u001b[0m\u001b[0;34m\u001b[0m\u001b[0m\n\u001b[0;32m--> 564\u001b[0;31m             \u001b[0moutput_tensors\u001b[0m\u001b[0;34m,\u001b[0m \u001b[0m_\u001b[0m\u001b[0;34m,\u001b[0m \u001b[0m_\u001b[0m \u001b[0;34m=\u001b[0m \u001b[0mself\u001b[0m\u001b[0;34m.\u001b[0m\u001b[0mrun_internal_graph\u001b[0m\u001b[0;34m(\u001b[0m\u001b[0minputs\u001b[0m\u001b[0;34m,\u001b[0m \u001b[0mmasks\u001b[0m\u001b[0;34m)\u001b[0m\u001b[0;34m\u001b[0m\u001b[0;34m\u001b[0m\u001b[0m\n\u001b[0m\u001b[1;32m    565\u001b[0m             \u001b[0;32mreturn\u001b[0m \u001b[0moutput_tensors\u001b[0m\u001b[0;34m\u001b[0m\u001b[0;34m\u001b[0m\u001b[0m\n\u001b[1;32m    566\u001b[0m \u001b[0;34m\u001b[0m\u001b[0m\n",
            "\u001b[0;32m/usr/local/lib/python3.6/dist-packages/keras/engine/network.py\u001b[0m in \u001b[0;36mrun_internal_graph\u001b[0;34m(self, inputs, masks)\u001b[0m\n\u001b[1;32m    719\u001b[0m                                     \u001b[0mkwargs\u001b[0m\u001b[0;34m[\u001b[0m\u001b[0;34m'mask'\u001b[0m\u001b[0;34m]\u001b[0m \u001b[0;34m=\u001b[0m \u001b[0mcomputed_mask\u001b[0m\u001b[0;34m\u001b[0m\u001b[0;34m\u001b[0m\u001b[0m\n\u001b[1;32m    720\u001b[0m                             output_tensors = to_list(\n\u001b[0;32m--> 721\u001b[0;31m                                 layer.call(computed_tensor, **kwargs))\n\u001b[0m\u001b[1;32m    722\u001b[0m                             output_masks = layer.compute_mask(computed_tensor,\n\u001b[1;32m    723\u001b[0m                                                               computed_mask)\n",
            "\u001b[0;32m/usr/local/lib/python3.6/dist-packages/keras/engine/network.py\u001b[0m in \u001b[0;36mcall\u001b[0;34m(self, inputs, mask)\u001b[0m\n\u001b[1;32m    562\u001b[0m             \u001b[0;32mreturn\u001b[0m \u001b[0mself\u001b[0m\u001b[0;34m.\u001b[0m\u001b[0m_output_tensor_cache\u001b[0m\u001b[0;34m[\u001b[0m\u001b[0mcache_key\u001b[0m\u001b[0;34m]\u001b[0m\u001b[0;34m\u001b[0m\u001b[0;34m\u001b[0m\u001b[0m\n\u001b[1;32m    563\u001b[0m         \u001b[0;32melse\u001b[0m\u001b[0;34m:\u001b[0m\u001b[0;34m\u001b[0m\u001b[0;34m\u001b[0m\u001b[0m\n\u001b[0;32m--> 564\u001b[0;31m             \u001b[0moutput_tensors\u001b[0m\u001b[0;34m,\u001b[0m \u001b[0m_\u001b[0m\u001b[0;34m,\u001b[0m \u001b[0m_\u001b[0m \u001b[0;34m=\u001b[0m \u001b[0mself\u001b[0m\u001b[0;34m.\u001b[0m\u001b[0mrun_internal_graph\u001b[0m\u001b[0;34m(\u001b[0m\u001b[0minputs\u001b[0m\u001b[0;34m,\u001b[0m \u001b[0mmasks\u001b[0m\u001b[0;34m)\u001b[0m\u001b[0;34m\u001b[0m\u001b[0;34m\u001b[0m\u001b[0m\n\u001b[0m\u001b[1;32m    565\u001b[0m             \u001b[0;32mreturn\u001b[0m \u001b[0moutput_tensors\u001b[0m\u001b[0;34m\u001b[0m\u001b[0;34m\u001b[0m\u001b[0m\n\u001b[1;32m    566\u001b[0m \u001b[0;34m\u001b[0m\u001b[0m\n",
            "\u001b[0;32m/usr/local/lib/python3.6/dist-packages/keras/engine/network.py\u001b[0m in \u001b[0;36mrun_internal_graph\u001b[0;34m(self, inputs, masks)\u001b[0m\n\u001b[1;32m    777\u001b[0m                         input_shapes = unpack_singleton(\n\u001b[1;32m    778\u001b[0m                             [x._keras_shape for x in computed_tensors])\n\u001b[0;32m--> 779\u001b[0;31m                         \u001b[0mshapes\u001b[0m \u001b[0;34m=\u001b[0m \u001b[0mto_list\u001b[0m\u001b[0;34m(\u001b[0m\u001b[0mlayer\u001b[0m\u001b[0;34m.\u001b[0m\u001b[0mcompute_output_shape\u001b[0m\u001b[0;34m(\u001b[0m\u001b[0minput_shapes\u001b[0m\u001b[0;34m)\u001b[0m\u001b[0;34m)\u001b[0m\u001b[0;34m\u001b[0m\u001b[0;34m\u001b[0m\u001b[0m\n\u001b[0m\u001b[1;32m    780\u001b[0m                         uses_learning_phase = any(\n\u001b[1;32m    781\u001b[0m                             [x._uses_learning_phase for x in computed_tensors])\n",
            "\u001b[0;32m/usr/local/lib/python3.6/dist-packages/keras/layers/core.py\u001b[0m in \u001b[0;36mcompute_output_shape\u001b[0;34m(self, input_shape)\u001b[0m\n\u001b[1;32m    396\u001b[0m             \u001b[0;31m# input shape known? then we can compute the output shape\u001b[0m\u001b[0;34m\u001b[0m\u001b[0;34m\u001b[0m\u001b[0;34m\u001b[0m\u001b[0m\n\u001b[1;32m    397\u001b[0m             return (input_shape[0],) + self._fix_unknown_dimension(\n\u001b[0;32m--> 398\u001b[0;31m                 input_shape[1:], self.target_shape)\n\u001b[0m\u001b[1;32m    399\u001b[0m \u001b[0;34m\u001b[0m\u001b[0m\n\u001b[1;32m    400\u001b[0m     \u001b[0;32mdef\u001b[0m \u001b[0mcall\u001b[0m\u001b[0;34m(\u001b[0m\u001b[0mself\u001b[0m\u001b[0;34m,\u001b[0m \u001b[0minputs\u001b[0m\u001b[0;34m)\u001b[0m\u001b[0;34m:\u001b[0m\u001b[0;34m\u001b[0m\u001b[0;34m\u001b[0m\u001b[0m\n",
            "\u001b[0;32m/usr/local/lib/python3.6/dist-packages/keras/layers/core.py\u001b[0m in \u001b[0;36m_fix_unknown_dimension\u001b[0;34m(self, input_shape, output_shape)\u001b[0m\n\u001b[1;32m    384\u001b[0m             \u001b[0moutput_shape\u001b[0m\u001b[0;34m[\u001b[0m\u001b[0munknown\u001b[0m\u001b[0;34m]\u001b[0m \u001b[0;34m=\u001b[0m \u001b[0moriginal\u001b[0m \u001b[0;34m//\u001b[0m \u001b[0mknown\u001b[0m\u001b[0;34m\u001b[0m\u001b[0;34m\u001b[0m\u001b[0m\n\u001b[1;32m    385\u001b[0m         \u001b[0;32melif\u001b[0m \u001b[0moriginal\u001b[0m \u001b[0;34m!=\u001b[0m \u001b[0mknown\u001b[0m\u001b[0;34m:\u001b[0m\u001b[0;34m\u001b[0m\u001b[0;34m\u001b[0m\u001b[0m\n\u001b[0;32m--> 386\u001b[0;31m             \u001b[0;32mraise\u001b[0m \u001b[0mValueError\u001b[0m\u001b[0;34m(\u001b[0m\u001b[0mmsg\u001b[0m\u001b[0;34m)\u001b[0m\u001b[0;34m\u001b[0m\u001b[0;34m\u001b[0m\u001b[0m\n\u001b[0m\u001b[1;32m    387\u001b[0m \u001b[0;34m\u001b[0m\u001b[0m\n\u001b[1;32m    388\u001b[0m         \u001b[0;32mreturn\u001b[0m \u001b[0mtuple\u001b[0m\u001b[0;34m(\u001b[0m\u001b[0moutput_shape\u001b[0m\u001b[0;34m)\u001b[0m\u001b[0;34m\u001b[0m\u001b[0;34m\u001b[0m\u001b[0m\n",
            "\u001b[0;31mValueError\u001b[0m: total size of new array must be unchanged"
          ]
        }
      ]
    },
    {
      "cell_type": "code",
      "metadata": {
        "id": "ddfbO9OFOTg3",
        "colab_type": "code",
        "colab": {}
      },
      "source": [
        ""
      ],
      "execution_count": 0,
      "outputs": []
    }
  ]
}